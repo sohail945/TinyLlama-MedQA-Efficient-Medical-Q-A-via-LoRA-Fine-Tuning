{
  "nbformat": 4,
  "nbformat_minor": 0,
  "metadata": {
    "colab": {
      "provenance": []
    },
    "kernelspec": {
      "name": "python3",
      "display_name": "Python 3"
    },
    "language_info": {
      "name": "python"
    }
  },
  "cells": [
    {
      "cell_type": "code",
      "execution_count": null,
      "metadata": {
        "colab": {
          "base_uri": "https://localhost:8080/"
        },
        "id": "FAw_fRnGggQ_",
        "outputId": "084a5eb1-cca3-47bc-c94c-d5cc916c8583"
      },
      "outputs": [
        {
          "output_type": "stream",
          "name": "stdout",
          "text": [
            "  document_id document_source  \\\n",
            "0     0000559             GHR   \n",
            "1     0000559             GHR   \n",
            "2     0000559             GHR   \n",
            "3     0000559             GHR   \n",
            "4     0000559             GHR   \n",
            "\n",
            "                                        document_url category  umls_cui  \\\n",
            "0  https://ghr.nlm.nih.gov/condition/keratoderma-...     None  C0343073   \n",
            "1  https://ghr.nlm.nih.gov/condition/keratoderma-...     None  C0343073   \n",
            "2  https://ghr.nlm.nih.gov/condition/keratoderma-...     None  C0343073   \n",
            "3  https://ghr.nlm.nih.gov/condition/keratoderma-...     None  C0343073   \n",
            "4  https://ghr.nlm.nih.gov/condition/keratoderma-...     None  C0343073   \n",
            "\n",
            "  umls_semantic_types umls_semantic_group synonyms question_id  \\\n",
            "0                T047           Disorders     KWWH   0000559-1   \n",
            "1                T047           Disorders     KWWH   0000559-2   \n",
            "2                T047           Disorders     KWWH   0000559-3   \n",
            "3                T047           Disorders     KWWH   0000559-4   \n",
            "4                T047           Disorders     KWWH   0000559-5   \n",
            "\n",
            "                 question_focus    question_type  \\\n",
            "0  keratoderma with woolly hair      information   \n",
            "1  keratoderma with woolly hair        frequency   \n",
            "2  keratoderma with woolly hair  genetic changes   \n",
            "3  keratoderma with woolly hair      inheritance   \n",
            "4  keratoderma with woolly hair        treatment   \n",
            "\n",
            "                                            question  \\\n",
            "0       What is (are) keratoderma with woolly hair ?   \n",
            "1  How many people are affected by keratoderma wi...   \n",
            "2  What are the genetic changes related to kerato...   \n",
            "3        Is keratoderma with woolly hair inherited ?   \n",
            "4  What are the treatments for keratoderma with w...   \n",
            "\n",
            "                                              answer  \n",
            "0  Keratoderma with woolly hair is a group of rel...  \n",
            "1  Keratoderma with woolly hair is rare; its prev...  \n",
            "2  Mutations in the JUP, DSP, DSC2, and KANK2 gen...  \n",
            "3  Most cases of keratoderma with woolly hair hav...  \n",
            "4  These resources address the diagnosis or manag...  \n"
          ]
        }
      ],
      "source": [
        "import pandas as pd\n",
        "\n",
        "# Load your downloaded parquet file\n",
        "df = pd.read_parquet(\"/content/train-00000-of-00001-e36383d177026d53.parquet\")\n",
        "\n",
        "# Show first few rows\n",
        "print(df.head())\n"
      ]
    },
    {
      "cell_type": "code",
      "source": [
        "# Convert to instruction format\n",
        "formatted_data = []\n",
        "\n",
        "for _, row in df.iterrows():\n",
        "    formatted_data.append({\n",
        "        \"instruction\": row[\"question\"],\n",
        "        \"input\": \"\",\n",
        "        \"output\": row[\"answer\"]\n",
        "    })\n",
        "\n",
        "# Save first 5000 entries to JSON\n",
        "import json\n",
        "\n",
        "with open(\"medquad_5000.json\", \"w\") as f:\n",
        "    json.dump(formatted_data[:5000], f, indent=2)\n",
        "\n",
        "print(\"✅ Saved 'medquad_5000.json'\")\n"
      ],
      "metadata": {
        "colab": {
          "base_uri": "https://localhost:8080/"
        },
        "id": "pg74qxW8gos2",
        "outputId": "7b1cf05c-fbea-4222-993c-973a16cdf2dd"
      },
      "execution_count": null,
      "outputs": [
        {
          "output_type": "stream",
          "name": "stdout",
          "text": [
            "✅ Saved 'medquad_5000.json'\n"
          ]
        }
      ]
    }
  ]
}